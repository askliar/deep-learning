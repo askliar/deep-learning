{
 "cells": [
  {
   "cell_type": "code",
   "execution_count": 17,
   "metadata": {},
   "outputs": [],
   "source": [
    "import os\n",
    "import pickle\n",
    "from collections import defaultdict\n",
    "import numpy as np\n",
    "import matplotlib.pyplot as plt"
   ]
  },
  {
   "cell_type": "code",
   "execution_count": 18,
   "metadata": {},
   "outputs": [],
   "source": [
    "plots_dir = '../plots'\n",
    "data_dir = '../part1/data'"
   ]
  },
  {
   "cell_type": "code",
   "execution_count": 19,
   "metadata": {},
   "outputs": [],
   "source": [
    "if not os.path.exists(plots_dir):\n",
    "    os.makedirs(plots_dir)"
   ]
  },
  {
   "cell_type": "code",
   "execution_count": 20,
   "metadata": {},
   "outputs": [],
   "source": [
    "def find_convergence(arr):\n",
    "    for i in range(len(arr) - 100):\n",
    "        temp = arr[i:i+100]\n",
    "        \n",
    "#         if temp.sum() == 100.0:\n",
    "#             return i\n",
    "        if np.all((temp - temp.mean()) < 0.0001):\n",
    "            return i\n",
    "    return len(arr) - 100"
   ]
  },
  {
   "cell_type": "code",
   "execution_count": 21,
   "metadata": {},
   "outputs": [],
   "source": [
    "results = defaultdict(dict)\n",
    "lstm_x = []\n",
    "lstm_y = []\n",
    "rnn_x = []\n",
    "rnn_y = []\n",
    "\n",
    "for file in os.listdir(data_dir):\n",
    "    if file.endswith(\".pkl\"):\n",
    "        with open(os.path.join(data_dir, file), 'rb') as f:\n",
    "            filename = os.path.splitext(file)[0]\n",
    "            model, length = filename.split('_')\n",
    "            array = np.array(pickle.load(f))\n",
    "            convergence_idx = find_convergence(array)\n",
    "            single_result = array[convergence_idx:convergence_idx+100].mean()\n",
    "            results[model][int(length)] = (np.arange(len(array)), array)\n",
    "            if model == 'LSTM':\n",
    "                lstm_x.append(int(length))\n",
    "                lstm_y.append(single_result)\n",
    "            elif model == 'RNN':\n",
    "                rnn_x.append(int(length))\n",
    "                rnn_y.append(single_result)\n",
    "                \n",
    "lstm_x = np.array(lstm_x)\n",
    "lstm_y = np.array(lstm_y)\n",
    "rnn_x = np.array(rnn_x)\n",
    "rnn_y = np.array(rnn_y)"
   ]
  },
  {
   "cell_type": "code",
   "execution_count": 24,
   "metadata": {},
   "outputs": [
    {
     "data": {
      "image/png": "[encoded data removed]",
      "text/plain": [
       "<matplotlib.figure.Figure at 0x11f596ef0>"
      ]
     },
     "metadata": {},
     "output_type": "display_data"
    }
   ],
   "source": [
    "idxs = np.argsort(rnn_x)\n",
    "\n",
    "plt.scatter(rnn_x[idxs], rnn_y[idxs])\n",
    "plt.xlabel('Palindrome length')\n",
    "plt.ylabel('Accuracy')\n",
    "plt.title('Accuracy of RNN depending on the palindrome length')\n",
    "plt.savefig(os.path.join(plots_dir, 'rnn_plot.jpg'), dpi=1000)\n",
    "\n",
    "plt.show()"
   ]
  },
  {
   "cell_type": "code",
   "execution_count": 25,
   "metadata": {},
   "outputs": [
    {
     "data": {
      "image/png": "[encoded data removed]",
      "text/plain": [
       "<matplotlib.figure.Figure at 0x11f86ddd8>"
      ]
     },
     "metadata": {},
     "output_type": "display_data"
    }
   ],
   "source": [
    "idxs = np.argsort(lstm_x)\n",
    "\n",
    "plt.scatter(lstm_x[idxs], lstm_y[idxs])\n",
    "plt.xlabel('Palindrome length')\n",
    "plt.ylabel('Accuracy')\n",
    "plt.title('Accuracy of LSTM depending on the palindrome length')\n",
    "plt.savefig(os.path.join(plots_dir, 'lstm_plot.jpg'), dpi=1000)\n",
    "\n",
    "plt.show()"
   ]
  }
 ],
 "metadata": {
  "kernelspec": {
   "display_name": "Python [conda env:py36]",
   "language": "python",
   "name": "conda-env-py36-py"
  },
  "language_info": {
   "codemirror_mode": {
    "name": "ipython",
    "version": 3
   },
   "file_extension": ".py",
   "mimetype": "text/x-python",
   "name": "python",
   "nbconvert_exporter": "python",
   "pygments_lexer": "ipython3",
   "version": "3.6.4"
  }
 },
 "nbformat": 4,
 "nbformat_minor": 2
}
