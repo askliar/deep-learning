{
 "cells": [
  {
   "cell_type": "code",
   "execution_count": 260,
   "metadata": {},
   "outputs": [],
   "source": [
    "import torch\n",
    "import os\n",
    "from collections import defaultdict\n",
    "import sys\n",
    "\n",
    "sys.path.insert(0, '../part3')\n",
    "sys.path.insert(0, '../')\n",
    "\n",
    "import train\n",
    "from dataset import TextDataset"
   ]
  },
  {
   "cell_type": "code",
   "execution_count": 261,
   "metadata": {},
   "outputs": [],
   "source": [
    "summaries_dir = '../summaries'\n",
    "checkpoints_dir = '../checkpoints'\n",
    "text_dir = '../part3/books'"
   ]
  },
  {
   "cell_type": "code",
   "execution_count": 262,
   "metadata": {},
   "outputs": [],
   "source": [
    "with open(os.path.join(text_dir, 'vanity_fair.txt'), 'r') as f:\n",
    "    text = f.read()\n",
    "    text = ''.join([i if ord(i) < 128 else ' ' for i in text])\n",
    "    \n",
    "with open(os.path.join(text_dir, 'vanity_fair.txt'), 'w') as f:\n",
    "    f.write(text)"
   ]
  },
  {
   "cell_type": "code",
   "execution_count": 263,
   "metadata": {},
   "outputs": [],
   "source": [
    "results = {}"
   ]
  },
  {
   "cell_type": "code",
   "execution_count": 264,
   "metadata": {},
   "outputs": [
    {
     "name": "stdout",
     "output_type": "stream",
     "text": [
      "logs_vanity_fair.txt_greedy_1.0_rmsprop_64_0.0_0.002.txt\n",
      "logs_vanity_fair.txt_random_0.5_rmsprop_64_0.0_0.002.txt\n",
      "logs_vanity_fair.txt_random_1.0_rmsprop_64_0.0_0.002.txt\n",
      "logs_vanity_fair.txt_random_2.0_rmsprop_64_0.0_0.002.txt\n"
     ]
    }
   ],
   "source": [
    "for file in os.listdir(summaries_dir):\n",
    "    if file.endswith(\".txt\") and 'vanity' in file:\n",
    "        with open(os.path.join(summaries_dir, file), 'r') as f:\n",
    "            print(file)\n",
    "            text = f.readlines()\n",
    "            sentences = ''.join(text[8:]).split('<EOF>')[:705]\n",
    "            selected_sentences = [sentences[176 * i] for i in range(5)]\n",
    "            results[file] = selected_sentences"
   ]
  },
  {
   "cell_type": "code",
   "execution_count": 265,
   "metadata": {},
   "outputs": [
    {
     "data": {
      "text/plain": [
       "{'logs_vanity_fair.txt_greedy_1.0_rmsprop_64_0.0_0.002.txt': ['Imm                           ',\n",
       "  'ght the state of the state of ',\n",
       "  'Z and the company and the comp',\n",
       "  '_ and the presence of the pres',\n",
       "  'd the country and the country '],\n",
       " 'logs_vanity_fair.txt_random_0.5_rmsprop_64_0.0_0.002.txt': ['pcY&bSVTTkQS4 and?SZ#* o! j;.A',\n",
       "  ' a comprinklest fellows of her',\n",
       "  '\\'s brandy-treaction.  \"He had ',\n",
       "  'Dobbin should be a man of her ',\n",
       "  'llingted the depresent travell'],\n",
       " 'logs_vanity_fair.txt_random_1.0_rmsprop_64_0.0_0.002.txt': ['#jx!%dYikK.vXonWIc(Qw\"@_AyeOwX',\n",
       "  'ved and discovered herse. His ',\n",
       "  'Unce\\nin him home and going, th',\n",
       "  '\\'s long money,\" reC.B.n that t',\n",
       "  'y must have dreads everything '],\n",
       " 'logs_vanity_fair.txt_random_2.0_rmsprop_64_0.0_0.002.txt': ['Ll7 0ydu;5l4P2EpX24C9FS 68ZrWR',\n",
       "  '(\"mEstfanciewhaply K\\nHIPIO*, L',\n",
       "  'SEDee?\" phere evendher\\nPz8M;.,',\n",
       "  '.\\nGazipaG:-book,\" we us: \\n\\nAzl',\n",
       "  'RNHCTC!\\nM9ETLD! gher.\"  DT2per']}"
      ]
     },
     "execution_count": 265,
     "metadata": {},
     "output_type": "execute_result"
    }
   ],
   "source": [
    "results"
   ]
  }
 ],
 "metadata": {
  "kernelspec": {
   "display_name": "Python [conda env:py36]",
   "language": "python",
   "name": "conda-env-py36-py"
  },
  "language_info": {
   "codemirror_mode": {
    "name": "ipython",
    "version": 3
   },
   "file_extension": ".py",
   "mimetype": "text/x-python",
   "name": "python",
   "nbconvert_exporter": "python",
   "pygments_lexer": "ipython3",
   "version": "3.6.4"
  }
 },
 "nbformat": 4,
 "nbformat_minor": 2
}
