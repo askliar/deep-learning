{
 "cells": [
  {
   "cell_type": "code",
   "execution_count": 3,
   "metadata": {},
   "outputs": [],
   "source": [
    "import torch\n",
    "import numpy as np\n",
    "import os"
   ]
  },
  {
   "cell_type": "code",
   "execution_count": 22,
   "metadata": {},
   "outputs": [],
   "source": [
    "extensions = ['.txt']\n",
    "file_dict = {}\n",
    "for subdir, dirs, files in os.walk('.'):\n",
    "    for file in files:\n",
    "        ext = os.path.splitext(file)[-1].lower()\n",
    "        if ext in extensions:\n",
    "            file_dict[file] = {}\n",
    "            with open(os.path.join(subdir, file), 'r') as file:\n",
    "                lines = file.readlines()\n",
    "                test_steps = lines[1]\n",
    "                test_steps = test_steps[:test_steps.rfind(']')+1]\n",
    "                test_losses = lines[2]\n",
    "                test_losses = test_losses[:test_losses.rfind(']')+1]\n",
    "                test_accuracies = lines[3]\n",
    "                test_accuracies = test_accuracies[:test_accuracies.rfind(']')+1]\n",
    "                train_steps = lines[4]\n",
    "                train_steps = train_steps[:train_steps.rfind(']')+1]\n",
    "                train_losses = lines[5]\n",
    "                train_losses = train_losses[:train_losses.rfind(']')+1]\n",
    "                train_accuracies = lines[6]\n",
    "                train_accuracies = train_accuracies[:train_accuracies.rfind(']')+1]\n",
    "                \n",
    "                file_dict[file]['test_steps'] = test_steps\n",
    "                file_dict[file]['test_losses'] = test_losses\n",
    "                file_dict[file]['test_accuracies'] = test_accuracies\n",
    "                file_dict[file]['train_steps'] = train_steps\n",
    "                file_dict[file]['train_losses'] = train_losses\n",
    "                file_dict[file]['train_accuracies'] = train_accuracies\n",
    "#                 for line in file.readlines():\n",
    "#                     print(line)"
   ]
  },
  {
   "cell_type": "code",
   "execution_count": null,
   "metadata": {},
   "outputs": [],
   "source": []
  }
 ],
 "metadata": {
  "kernelspec": {
   "display_name": "Python [conda env:py36]",
   "language": "python",
   "name": "conda-env-py36-py"
  },
  "language_info": {
   "codemirror_mode": {
    "name": "ipython",
    "version": 3
   },
   "file_extension": ".py",
   "mimetype": "text/x-python",
   "name": "python",
   "nbconvert_exporter": "python",
   "pygments_lexer": "ipython3",
   "version": "3.6.4"
  }
 },
 "nbformat": 4,
 "nbformat_minor": 2
}
